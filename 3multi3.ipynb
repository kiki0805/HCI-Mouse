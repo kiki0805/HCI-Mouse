{
 "cells": [
  {
   "cell_type": "code",
   "execution_count": 39,
   "metadata": {},
   "outputs": [],
   "source": [
    "from PIL import Image\n",
    "import re\n",
    "\n",
    "scale = 30\n",
    "image_size = [32*scale,32*scale]\n",
    "line_size = 4*scale\n",
    "for i in range(image_size[1]//line_size):\n",
    "    im = Image.new('RGB', (image_size[0],image_size[1]) , (255,255,255))\n",
    "    pixelMap = im.load()\n",
    "    for j in range(image_size[0]):\n",
    "        for k in range(line_size):\n",
    "            pixelMap[j,i*line_size+k] = (0,0,0)\n",
    "    im.save(\"Large_Hor_{0}.jpg\".format(i))\n",
    "    \n",
    "for i in range(image_size[0]//line_size):\n",
    "    im = Image.new('RGB', (image_size[0],image_size[1]) , (255,255,255))\n",
    "    pixelMap = im.load()\n",
    "    for j in range(image_size[1]):\n",
    "        for k in range(line_size):\n",
    "            pixelMap[i*line_size+k,j] = (0,0,0)\n",
    "    im.save(\"Large_Ver_{0}.jpg\".format(i))    \n",
    "    "
   ]
  },
  {
   "cell_type": "code",
   "execution_count": null,
   "metadata": {},
   "outputs": [],
   "source": []
  }
 ],
 "metadata": {
  "kernelspec": {
   "display_name": "Python 3",
   "language": "python",
   "name": "python3"
  },
  "language_info": {
   "codemirror_mode": {
    "name": "ipython",
    "version": 3
   },
   "file_extension": ".py",
   "mimetype": "text/x-python",
   "name": "python",
   "nbconvert_exporter": "python",
   "pygments_lexer": "ipython3",
   "version": "3.6.8"
  }
 },
 "nbformat": 4,
 "nbformat_minor": 2
}
